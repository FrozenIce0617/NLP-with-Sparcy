{
 "cells": [
  {
   "cell_type": "markdown",
   "metadata": {},
   "source": [
    "## Task 4\n",
    "\n",
    "Using Google's universal encoder, calculate the similarity and replace the similar chunk in the sentence."
   ]
  },
  {
   "cell_type": "code",
   "execution_count": 6,
   "metadata": {},
   "outputs": [],
   "source": [
    "from absl import logging\n",
    "\n",
    "import tensorflow as tf\n",
    "import tensorflow_hub as hub\n",
    "import numpy as np"
   ]
  },
  {
   "cell_type": "code",
   "execution_count": 2,
   "metadata": {},
   "outputs": [
    {
     "name": "stdout",
     "output_type": "stream",
     "text": [
      "module large_param loaded\n"
     ]
    }
   ],
   "source": [
    "module_url = \"https://tfhub.dev/google/universal-sentence-encoder-large/5\" #@param [\"https://tfhub.dev/google/universal-sentence-encoder/4\", \"https://tfhub.dev/google/universal-sentence-encoder-large/5\"]\n",
    "model = hub.load(module_url)\n",
    "print (\"module %s loaded\" % module_url)\n",
    "def embed(input):\n",
    "    return model(input)"
   ]
  },
  {
   "cell_type": "code",
   "execution_count": 3,
   "metadata": {},
   "outputs": [],
   "source": [
    "import spacy\n",
    "import pickle\n",
    "activated = spacy.prefer_gpu()\n",
    "nlp = spacy.load('en_core_web_lg')"
   ]
  },
  {
   "cell_type": "code",
   "execution_count": 48,
   "metadata": {},
   "outputs": [
    {
     "name": "stdout",
     "output_type": "stream",
     "text": [
      "======== step  0  ==========\n",
      "Understand customer needs\n",
      "Capture business requirements\n",
      "score :  0.3856976 \n",
      "\n",
      "======== step  1  ==========\n",
      "Understand business requirements\n",
      "Capture business requirements\n",
      "score :  0.64280045 \n",
      "\n",
      "======== step  2  ==========\n",
      "Capture business requirements\n",
      "Capture business requirements\n",
      "score :  0.99999994 \n",
      "\n"
     ]
    }
   ],
   "source": [
    "# Calculate the similarity between x and y\n",
    "def semantic_similarity(x, y):\n",
    "    features = embed([x, y])\n",
    "    corr = np.inner(features, features)\n",
    "    return corr[1][0]\n",
    "\n",
    "def print_step(step, first, second):\n",
    "    print(\"======== step \", step, \" ==========\")\n",
    "    print(first)\n",
    "    print(second)\n",
    "    print(\"score : \", str(semantic_similarity(first, second)), \"\\n\")\n",
    "\n",
    "# Replace the from_doc until similar to the to_doc\n",
    "def convert(from_doc, to_doc):\n",
    "    step = 0\n",
    "    \n",
    "    first = from_doc\n",
    "    second = to_doc\n",
    "    while True:\n",
    "        print_step(step, first, second)\n",
    "        \n",
    "        if semantic_similarity(first, second) > 1 - 1e-3:\n",
    "            break\n",
    "            \n",
    "        doc_f = nlp(first.strip())\n",
    "        doc_s = nlp(second.strip())\n",
    "        mx = 0\n",
    "        fid, sid = None, None\n",
    "        for token_f in doc_f:\n",
    "            for token_s in doc_s:\n",
    "                if token_f.tag_ != token_s.tag_:\n",
    "                    continue\n",
    "                first_p = doc_f[token_f.left_edge.i : token_f.right_edge.i+1].text.strip()\n",
    "                second_p = doc_s[token_s.left_edge.i : token_s.right_edge.i+1].text.strip()\n",
    "                score = semantic_similarity(first_p, second_p) \n",
    "                if score < 1 - 1e-3 and score > mx:\n",
    "                    mx = score\n",
    "                    fid = first_p\n",
    "                    sid = second_p\n",
    "        \n",
    "        first = first.replace(fid, sid)\n",
    "        step += 1\n",
    "\n",
    "x = 'Understand customer needs'\n",
    "y = 'Capture business requirements'\n",
    "\n",
    "convert(x, y)"
   ]
  },
  {
   "cell_type": "code",
   "execution_count": null,
   "metadata": {},
   "outputs": [],
   "source": []
  }
 ],
 "metadata": {
  "kernelspec": {
   "display_name": "Python 3",
   "language": "python",
   "name": "python3"
  },
  "language_info": {
   "codemirror_mode": {
    "name": "ipython",
    "version": 3
   },
   "file_extension": ".py",
   "mimetype": "text/x-python",
   "name": "python",
   "nbconvert_exporter": "python",
   "pygments_lexer": "ipython3",
   "version": "3.7.3"
  }
 },
 "nbformat": 4,
 "nbformat_minor": 2
}
